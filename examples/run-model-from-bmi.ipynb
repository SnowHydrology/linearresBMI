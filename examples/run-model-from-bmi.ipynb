{
 "cells": [
  {
   "cell_type": "markdown",
   "metadata": {},
   "source": [
    "# Run the `snowBMI` model using Basic Model Interface commands"
   ]
  },
  {
   "cell_type": "markdown",
   "metadata": {},
   "source": [
    "This notebook demonstrates the execution of a simple temperature index snow model using BMI. View the source code for the [model](https://github.com/SnowHydrology/snowBMI/blob/master/snow/snow.py) and its [BMI](https://github.com/SnowHydrology/snowBMI/blob/master/snow/bmi_snow.py) on GitHub.\n",
    "\n",
    "This exercise is based on the [heat](https://github.com/csdms/bmi-example-python) example from [CSDMS](https://csdms.colorado.edu/wiki/Main_Page)."
   ]
  },
  {
   "cell_type": "markdown",
   "metadata": {},
   "source": [
    "Start by importing `os`, `numpy` and the `Snow` BMI:"
   ]
  },
  {
   "cell_type": "code",
   "execution_count": 1,
   "metadata": {},
   "outputs": [],
   "source": [
    "import os\n",
    "import numpy as np\n",
    "\n",
    "from snow import SnowBmi"
   ]
  },
  {
   "cell_type": "markdown",
   "metadata": {},
   "source": [
    "Create an instance of the model's BMI."
   ]
  },
  {
   "cell_type": "code",
   "execution_count": 2,
   "metadata": {},
   "outputs": [],
   "source": [
    "x = SnowBmi()"
   ]
  },
  {
   "cell_type": "markdown",
   "metadata": {},
   "source": [
    "Use the BMI `get_component_name` function to query the model's name."
   ]
  },
  {
   "cell_type": "code",
   "execution_count": 3,
   "metadata": {},
   "outputs": [
    {
     "name": "stdout",
     "output_type": "stream",
     "text": [
      "Temperature Index Snow Model with BMI\n"
     ]
    }
   ],
   "source": [
    "print(x.get_component_name())"
   ]
  },
  {
   "cell_type": "markdown",
   "metadata": {},
   "source": [
    "Start the `Snow` model through its BMI using a configuration file. First, take a look at the file and then run the BMI `initialize` function."
   ]
  },
  {
   "cell_type": "code",
   "execution_count": 4,
   "metadata": {},
   "outputs": [
    {
     "name": "stdout",
     "output_type": "stream",
     "text": [
      "# Snow model configuration\r\n",
      "rs_method: 1         # 1 = single threshold, 2 = dual threshold\r\n",
      "rs_thresh: 2.5       # rain-snow temperature threshold when rs_method = 1 (°C)\r\n",
      "snow_thresh_max: 1.5 # maximum all-snow temp when rs_method = 2 (°C)\r\n",
      "rain_thresh_min: 4.5 # minimum all-rain temp when rs_method = 2 (°C)\r\n",
      "ddf_max: 1           # maximum degree day melt factor (mm/day/°C)\r\n",
      "ddf_min: 0           # minimum degree day melt factor (mm/day/°C)\r\n",
      "tair_melt_thresh: 1  # air temperature threshold above which melt can occur (°C)\r\n",
      "swe_init: 0          # initial snow water equivalent (mm)\r\n",
      "dayofyear: 274       # Day of year of simulation start (ex: 1 = Jan 1, 274 = Oct 1)"
     ]
    }
   ],
   "source": [
    "cat snow.yaml"
   ]
  },
  {
   "cell_type": "code",
   "execution_count": 5,
   "metadata": {},
   "outputs": [],
   "source": [
    "x.initialize(\"snow.yaml\")"
   ]
  },
  {
   "cell_type": "markdown",
   "metadata": {},
   "source": [
    "Check the time information for the model."
   ]
  },
  {
   "cell_type": "code",
   "execution_count": 6,
   "metadata": {},
   "outputs": [
    {
     "name": "stdout",
     "output_type": "stream",
     "text": [
      "Start time: 0.0\n",
      "End time: 1.7976931348623157e+308\n",
      "Current time: 0.0\n",
      "Time step: 86400\n",
      "Time units: s\n"
     ]
    }
   ],
   "source": [
    "print(\"Start time:\", x.get_start_time())\n",
    "print(\"End time:\", x.get_end_time())\n",
    "print(\"Current time:\", x.get_current_time())\n",
    "print(\"Time step:\", x.get_time_step())\n",
    "print(\"Time units:\", x.get_time_units())"
   ]
  },
  {
   "cell_type": "markdown",
   "metadata": {},
   "source": [
    "Show the input and output variables for the component (aside on [Standard Names](https://csdms.colorado.edu/wiki/CSDMS_Standard_Names)):"
   ]
  },
  {
   "cell_type": "code",
   "execution_count": 7,
   "metadata": {},
   "outputs": [
    {
     "name": "stdout",
     "output_type": "stream",
     "text": [
      "Input vars = ('atmosphere_water__precipitation_leq-volume_flux', 'land_surface_air__temperature')\n",
      "Output vars = ('snowpack__liquid-equivalent_depth', 'snowpack__melt_volume_flux')\n"
     ]
    }
   ],
   "source": [
    "print(\"Input vars =\", x.get_input_var_names())\n",
    "print(\"Output vars =\", x.get_output_var_names())"
   ]
  },
  {
   "cell_type": "markdown",
   "metadata": {},
   "source": [
    "For a quick example, set air temperature and precipitation to a constant value using standard BMI functions."
   ]
  },
  {
   "cell_type": "code",
   "execution_count": 8,
   "metadata": {
    "scrolled": true
   },
   "outputs": [
    {
     "name": "stdout",
     "output_type": "stream",
     "text": [
      "Air temperature from get_value = [0.]\n",
      "Air temperature from get_value_ptr = [0.]\n",
      "Air temperature from get_value after set_value= [-5.]\n",
      "Air temperature from get_value_ptr after set_value= [-5.]\n",
      "Precipitation from get_value_ptr = [0.]\n",
      "Precipitation from get_value_ptr after set_value= [10.]\n"
     ]
    }
   ],
   "source": [
    "# when the model is initialized, air temperature equals 0\n",
    "# we can check this using either get_value or get_value_ptr\n",
    "temp_array = np.zeros(1,)\n",
    "x.get_value('land_surface_air__temperature', temp_array)\n",
    "print(\"Air temperature from get_value =\", temp_array)\n",
    "print(\"Air temperature from get_value_ptr =\", x.get_value_ptr('land_surface_air__temperature'))\n",
    "\n",
    "# Now we can set the value of air temperature\n",
    "# first make a numpy single-element array and give it a value\n",
    "air_temperature = np.full(1, -5)\n",
    "\n",
    "# Then set the value and check it with get_value\n",
    "x.set_value(\"land_surface_air__temperature\", air_temperature)\n",
    "x.get_value('land_surface_air__temperature', temp_array)\n",
    "print(\"Air temperature from get_value after set_value=\", temp_array)\n",
    "print(\"Air temperature from get_value_ptr after set_value=\", x.get_value_ptr('land_surface_air__temperature'))\n",
    "\n",
    "# And let's do the same for precipitation\n",
    "precip = np.full(1, 10)\n",
    "print(\"Precipitation from get_value_ptr =\", x.get_value_ptr(\"atmosphere_water__precipitation_leq-volume_flux\"))\n",
    "x.set_value(\"atmosphere_water__precipitation_leq-volume_flux\", precip)\n",
    "print(\"Precipitation from get_value_ptr after set_value=\", x.get_value_ptr('atmosphere_water__precipitation_leq-volume_flux'))"
   ]
  },
  {
   "cell_type": "markdown",
   "metadata": {},
   "source": [
    "A key advantage of BMI is that **we don't have to know the names of any of the input or output variables**. We can query the model and have standardized BMI functions return their names and values. This means no more spending hours poring over code to get the simplest info—you can use the same functions over and over again to get the info you require."
   ]
  },
  {
   "cell_type": "code",
   "execution_count": 10,
   "metadata": {},
   "outputs": [
    {
     "name": "stdout",
     "output_type": "stream",
     "text": [
      "atmosphere_water__precipitation_leq-volume_flux = [10.]\n",
      "land_surface_air__temperature = [-5.]\n",
      "snowpack__liquid-equivalent_depth = [0.]\n",
      "snowpack__melt_volume_flux = [0.]\n"
     ]
    }
   ],
   "source": [
    "# we can also look at all values with a loop\n",
    "input_vars = x.get_input_var_names()\n",
    "for tmp in input_vars:\n",
    "    print(tmp, \"=\", x.get_value_ptr(tmp))\n",
    "output_vars = x.get_output_var_names()\n",
    "for tmp in output_vars:\n",
    "    print(tmp, \"=\", x.get_value_ptr(tmp))"
   ]
  },
  {
   "cell_type": "code",
   "execution_count": 12,
   "metadata": {},
   "outputs": [
    {
     "name": "stdout",
     "output_type": "stream",
     "text": [
      "swe in model =  [210.]\n",
      "precip in model = [10.]\n",
      "snowfall in model = [10.]\n",
      "air temp in model = [-5.]\n",
      "rs_method in model = 1\n",
      "swe = [210.]\n",
      "swe in model =  [220.]\n",
      "precip in model = [10.]\n",
      "snowfall in model = [10.]\n",
      "air temp in model = [-5.]\n",
      "rs_method in model = 1\n",
      "swe = [220.]\n",
      "swe in model =  [230.]\n",
      "precip in model = [10.]\n",
      "snowfall in model = [10.]\n",
      "air temp in model = [-5.]\n",
      "rs_method in model = 1\n",
      "swe = [230.]\n",
      "swe in model =  [240.]\n",
      "precip in model = [10.]\n",
      "snowfall in model = [10.]\n",
      "air temp in model = [-5.]\n",
      "rs_method in model = 1\n",
      "swe = [240.]\n",
      "swe in model =  [250.]\n",
      "precip in model = [10.]\n",
      "snowfall in model = [10.]\n",
      "air temp in model = [-5.]\n",
      "rs_method in model = 1\n",
      "swe = [250.]\n",
      "swe in model =  [260.]\n",
      "precip in model = [10.]\n",
      "snowfall in model = [10.]\n",
      "air temp in model = [-5.]\n",
      "rs_method in model = 1\n",
      "swe = [260.]\n",
      "swe in model =  [270.]\n",
      "precip in model = [10.]\n",
      "snowfall in model = [10.]\n",
      "air temp in model = [-5.]\n",
      "rs_method in model = 1\n",
      "swe = [270.]\n",
      "swe in model =  [280.]\n",
      "precip in model = [10.]\n",
      "snowfall in model = [10.]\n",
      "air temp in model = [-5.]\n",
      "rs_method in model = 1\n",
      "swe = [280.]\n",
      "swe in model =  [290.]\n",
      "precip in model = [10.]\n",
      "snowfall in model = [10.]\n",
      "air temp in model = [-5.]\n",
      "rs_method in model = 1\n",
      "swe = [290.]\n",
      "swe in model =  [300.]\n",
      "precip in model = [10.]\n",
      "snowfall in model = [10.]\n",
      "air temp in model = [-5.]\n",
      "rs_method in model = 1\n",
      "swe = [300.]\n",
      "swe in model =  [310.]\n",
      "precip in model = [10.]\n",
      "snowfall in model = [10.]\n",
      "air temp in model = [-5.]\n",
      "rs_method in model = 1\n",
      "swe = [310.]\n",
      "swe in model =  [320.]\n",
      "precip in model = [10.]\n",
      "snowfall in model = [10.]\n",
      "air temp in model = [-5.]\n",
      "rs_method in model = 1\n",
      "swe = [320.]\n",
      "swe in model =  [330.]\n",
      "precip in model = [10.]\n",
      "snowfall in model = [10.]\n",
      "air temp in model = [-5.]\n",
      "rs_method in model = 1\n",
      "swe = [330.]\n",
      "swe in model =  [340.]\n",
      "precip in model = [10.]\n",
      "snowfall in model = [10.]\n",
      "air temp in model = [-5.]\n",
      "rs_method in model = 1\n",
      "swe = [340.]\n",
      "swe in model =  [350.]\n",
      "precip in model = [10.]\n",
      "snowfall in model = [10.]\n",
      "air temp in model = [-5.]\n",
      "rs_method in model = 1\n",
      "swe = [350.]\n",
      "swe in model =  [360.]\n",
      "precip in model = [10.]\n",
      "snowfall in model = [10.]\n",
      "air temp in model = [-5.]\n",
      "rs_method in model = 1\n",
      "swe = [360.]\n",
      "swe in model =  [370.]\n",
      "precip in model = [10.]\n",
      "snowfall in model = [10.]\n",
      "air temp in model = [-5.]\n",
      "rs_method in model = 1\n",
      "swe = [370.]\n",
      "swe in model =  [380.]\n",
      "precip in model = [10.]\n",
      "snowfall in model = [10.]\n",
      "air temp in model = [-5.]\n",
      "rs_method in model = 1\n",
      "swe = [380.]\n",
      "swe in model =  [390.]\n",
      "precip in model = [10.]\n",
      "snowfall in model = [10.]\n",
      "air temp in model = [-5.]\n",
      "rs_method in model = 1\n",
      "swe = [390.]\n",
      "swe in model =  [400.]\n",
      "precip in model = [10.]\n",
      "snowfall in model = [10.]\n",
      "air temp in model = [-5.]\n",
      "rs_method in model = 1\n",
      "swe = [400.]\n"
     ]
    }
   ],
   "source": [
    "# update for a set number of time steps\n",
    "run_steps = 20\n",
    "for i in range(run_steps):\n",
    "    x.update()\n",
    "    print(\"swe =\", x.get_value_ptr(\"snowpack__liquid-equivalent_depth\"))"
   ]
  },
  {
   "cell_type": "code",
   "execution_count": 13,
   "metadata": {},
   "outputs": [
    {
     "name": "stdout",
     "output_type": "stream",
     "text": [
      "Air temperature from get_value_ptr after set_value= [15.]\n",
      "swe in model =  [398.34770504]\n",
      "precip in model = [10.]\n",
      "snowfall in model = [0.]\n",
      "air temp in model = [15.]\n",
      "rs_method in model = 1\n",
      "swe = [398.34770504]\n",
      "swe in model =  [396.77237017]\n",
      "precip in model = [10.]\n",
      "snowfall in model = [0.]\n",
      "air temp in model = [15.]\n",
      "rs_method in model = 1\n",
      "swe = [396.77237017]\n",
      "swe in model =  [395.27238786]\n",
      "precip in model = [10.]\n",
      "snowfall in model = [0.]\n",
      "air temp in model = [15.]\n",
      "rs_method in model = 1\n",
      "swe = [395.27238786]\n",
      "swe in model =  [393.84612824]\n",
      "precip in model = [10.]\n",
      "snowfall in model = [0.]\n",
      "air temp in model = [15.]\n",
      "rs_method in model = 1\n",
      "swe = [393.84612824]\n",
      "swe in model =  [392.49193961]\n",
      "precip in model = [10.]\n",
      "snowfall in model = [0.]\n",
      "air temp in model = [15.]\n",
      "rs_method in model = 1\n",
      "swe = [392.49193961]\n",
      "swe in model =  [391.20814891]\n",
      "precip in model = [10.]\n",
      "snowfall in model = [0.]\n",
      "air temp in model = [15.]\n",
      "rs_method in model = 1\n",
      "swe = [391.20814891]\n",
      "swe in model =  [389.99306219]\n",
      "precip in model = [10.]\n",
      "snowfall in model = [0.]\n",
      "air temp in model = [15.]\n",
      "rs_method in model = 1\n",
      "swe = [389.99306219]\n",
      "swe in model =  [388.84496519]\n",
      "precip in model = [10.]\n",
      "snowfall in model = [0.]\n",
      "air temp in model = [15.]\n",
      "rs_method in model = 1\n",
      "swe = [388.84496519]\n",
      "swe in model =  [387.76212376]\n",
      "precip in model = [10.]\n",
      "snowfall in model = [0.]\n",
      "air temp in model = [15.]\n",
      "rs_method in model = 1\n",
      "swe = [387.76212376]\n",
      "swe in model =  [386.74278442]\n",
      "precip in model = [10.]\n",
      "snowfall in model = [0.]\n",
      "air temp in model = [15.]\n",
      "rs_method in model = 1\n",
      "swe = [386.74278442]\n",
      "swe in model =  [385.78517488]\n",
      "precip in model = [10.]\n",
      "snowfall in model = [0.]\n",
      "air temp in model = [15.]\n",
      "rs_method in model = 1\n",
      "swe = [385.78517488]\n",
      "swe in model =  [384.88750456]\n",
      "precip in model = [10.]\n",
      "snowfall in model = [0.]\n",
      "air temp in model = [15.]\n",
      "rs_method in model = 1\n",
      "swe = [384.88750456]\n",
      "swe in model =  [384.04796511]\n",
      "precip in model = [10.]\n",
      "snowfall in model = [0.]\n",
      "air temp in model = [15.]\n",
      "rs_method in model = 1\n",
      "swe = [384.04796511]\n",
      "swe in model =  [383.26473095]\n",
      "precip in model = [10.]\n",
      "snowfall in model = [0.]\n",
      "air temp in model = [15.]\n",
      "rs_method in model = 1\n",
      "swe = [383.26473095]\n",
      "swe in model =  [382.53595982]\n",
      "precip in model = [10.]\n",
      "snowfall in model = [0.]\n",
      "air temp in model = [15.]\n",
      "rs_method in model = 1\n",
      "swe = [382.53595982]\n",
      "swe in model =  [381.85979331]\n",
      "precip in model = [10.]\n",
      "snowfall in model = [0.]\n",
      "air temp in model = [15.]\n",
      "rs_method in model = 1\n",
      "swe = [381.85979331]\n",
      "swe in model =  [381.23435746]\n",
      "precip in model = [10.]\n",
      "snowfall in model = [0.]\n",
      "air temp in model = [15.]\n",
      "rs_method in model = 1\n",
      "swe = [381.23435746]\n",
      "swe in model =  [380.65776322]\n",
      "precip in model = [10.]\n",
      "snowfall in model = [0.]\n",
      "air temp in model = [15.]\n",
      "rs_method in model = 1\n",
      "swe = [380.65776322]\n",
      "swe in model =  [380.1281071]\n",
      "precip in model = [10.]\n",
      "snowfall in model = [0.]\n",
      "air temp in model = [15.]\n",
      "rs_method in model = 1\n",
      "swe = [380.1281071]\n",
      "swe in model =  [379.64347171]\n",
      "precip in model = [10.]\n",
      "snowfall in model = [0.]\n",
      "air temp in model = [15.]\n",
      "rs_method in model = 1\n",
      "swe = [379.64347171]\n"
     ]
    }
   ],
   "source": [
    "# Try updating air temp to produce melt\n",
    "air_temperature = np.full(1, 15)\n",
    "\n",
    "# Then set the value and check it with get_value\n",
    "x.set_value(\"land_surface_air__temperature\", air_temperature)\n",
    "print(\"Air temperature from get_value_ptr after set_value=\", x.get_value_ptr('land_surface_air__temperature'))\n",
    "\n",
    "# update for a set number of time steps\n",
    "run_steps = 20\n",
    "for i in range(run_steps):\n",
    "    x.update()\n",
    "    print(\"swe =\", x.get_value_ptr(\"snowpack__liquid-equivalent_depth\"))\n"
   ]
  },
  {
   "cell_type": "code",
   "execution_count": 11,
   "metadata": {},
   "outputs": [
    {
     "name": "stdout",
     "output_type": "stream",
     "text": [
      "{'atmosphere_water__precipitation_leq-volume_flux': array([10.]), 'land_surface_air__temperature': array([-5.]), 'snowpack__liquid-equivalent_depth': array([0.]), 'snowpack__melt_volume_flux': array([0.])}\n",
      "294\n",
      "[-5.]\n",
      "[0.]\n",
      "(1,)\n"
     ]
    }
   ],
   "source": [
    "print(x._values)\n",
    "print(x._model._dayofyear)\n",
    "print(x._model._tair_c)\n",
    "test = x.get_value_ptr(\"snowpack__melt_volume_flux\")\n",
    "print(test)\n",
    "print(test.shape)"
   ]
  },
  {
   "cell_type": "markdown",
   "metadata": {},
   "source": [
    "Next, get the identifier for the grid on which the temperature variable is defined:"
   ]
  },
  {
   "cell_type": "code",
   "execution_count": null,
   "metadata": {},
   "outputs": [],
   "source": [
    "grid_id = x.get_var_grid(\"plate_surface__temperature\")\n",
    "print(\"Grid id:\", grid_id)"
   ]
  },
  {
   "cell_type": "markdown",
   "metadata": {},
   "source": [
    "Then get the grid attributes:"
   ]
  },
  {
   "cell_type": "code",
   "execution_count": null,
   "metadata": {},
   "outputs": [],
   "source": [
    "print(\"Grid type:\", x.get_grid_type(grid_id))\n",
    "\n",
    "rank = x.get_grid_rank(grid_id)\n",
    "print(\"Grid rank:\", rank)\n",
    "\n",
    "shape = np.ndarray(rank, dtype=int)\n",
    "x.get_grid_shape(grid_id, shape)\n",
    "print(\"Grid shape:\", shape)\n",
    "\n",
    "spacing = np.ndarray(rank, dtype=float)\n",
    "x.get_grid_spacing(grid_id, spacing)\n",
    "print(\"Grid spacing:\", spacing)"
   ]
  },
  {
   "cell_type": "markdown",
   "metadata": {},
   "source": [
    "These commands are made somewhat un-Pythonic by the generic design of the BMI."
   ]
  },
  {
   "cell_type": "markdown",
   "metadata": {},
   "source": [
    "Through the model's BMI, zero out the initial temperature field, except for an impulse near the middle.\n",
    "Note that *set_value* expects a one-dimensional array for input."
   ]
  },
  {
   "cell_type": "code",
   "execution_count": null,
   "metadata": {},
   "outputs": [],
   "source": [
    "temperature = np.zeros(shape)\n",
    "temperature[3, 4] = 100.0\n",
    "x.set_value(\"plate_surface__temperature\", temperature)"
   ]
  },
  {
   "cell_type": "markdown",
   "metadata": {},
   "source": [
    "Check that the temperature field has been updated. Note that *get_value* expects a one-dimensional array to receive output."
   ]
  },
  {
   "cell_type": "code",
   "execution_count": 12,
   "metadata": {},
   "outputs": [
    {
     "ename": "AttributeError",
     "evalue": "'int' object has no attribute 'flatten'",
     "output_type": "error",
     "traceback": [
      "\u001b[0;31m---------------------------------------------------------------------------\u001b[0m",
      "\u001b[0;31mAttributeError\u001b[0m                            Traceback (most recent call last)",
      "Input \u001b[0;32mIn [12]\u001b[0m, in \u001b[0;36m<cell line: 2>\u001b[0;34m()\u001b[0m\n\u001b[1;32m      1\u001b[0m tmp \u001b[38;5;241m=\u001b[39m \u001b[38;5;241m10\u001b[39m\n\u001b[0;32m----> 2\u001b[0m \u001b[43mx\u001b[49m\u001b[38;5;241;43m.\u001b[39;49m\u001b[43mget_value\u001b[49m\u001b[43m(\u001b[49m\u001b[38;5;124;43m\"\u001b[39;49m\u001b[38;5;124;43msnowpack__liquid-equivalent_depth\u001b[39;49m\u001b[38;5;124;43m\"\u001b[39;49m\u001b[43m,\u001b[49m\u001b[43m \u001b[49m\u001b[43mtmp\u001b[49m\u001b[43m)\u001b[49m\n",
      "File \u001b[0;32m~/Documents/projects/owp/nextgen/develop/snowBMI/snow/bmi_snow.py:224\u001b[0m, in \u001b[0;36mSnowBmi.get_value\u001b[0;34m(self, var_name, dest)\u001b[0m\n\u001b[1;32m    209\u001b[0m \u001b[38;5;28;01mdef\u001b[39;00m \u001b[38;5;21mget_value\u001b[39m(\u001b[38;5;28mself\u001b[39m, var_name, dest):\n\u001b[1;32m    210\u001b[0m     \u001b[38;5;124;03m\"\"\"Copy of values.\u001b[39;00m\n\u001b[1;32m    211\u001b[0m \n\u001b[1;32m    212\u001b[0m \u001b[38;5;124;03m    Parameters\u001b[39;00m\n\u001b[0;32m   (...)\u001b[0m\n\u001b[1;32m    222\u001b[0m \u001b[38;5;124;03m        Copy of values.\u001b[39;00m\n\u001b[1;32m    223\u001b[0m \u001b[38;5;124;03m    \"\"\"\u001b[39;00m\n\u001b[0;32m--> 224\u001b[0m     dest[:] \u001b[38;5;241m=\u001b[39m \u001b[38;5;28;43mself\u001b[39;49m\u001b[38;5;241;43m.\u001b[39;49m\u001b[43mget_value_ptr\u001b[49m\u001b[43m(\u001b[49m\u001b[43mvar_name\u001b[49m\u001b[43m)\u001b[49m\u001b[38;5;241;43m.\u001b[39;49m\u001b[43mflatten\u001b[49m()\n\u001b[1;32m    225\u001b[0m     \u001b[38;5;28;01mreturn\u001b[39;00m dest\n",
      "\u001b[0;31mAttributeError\u001b[0m: 'int' object has no attribute 'flatten'"
     ]
    }
   ],
   "source": [
    "temperature_flat = np.empty_like(temperature).flatten()\n",
    "x.get_value(\"plate_surface__temperature\", temperature_flat)\n",
    "print(temperature_flat.reshape(shape))"
   ]
  },
  {
   "cell_type": "markdown",
   "metadata": {},
   "source": [
    "Now advance the model by a single time step:"
   ]
  },
  {
   "cell_type": "code",
   "execution_count": null,
   "metadata": {},
   "outputs": [],
   "source": [
    "x.update()"
   ]
  },
  {
   "cell_type": "markdown",
   "metadata": {},
   "source": [
    "View the new state of the temperature field:"
   ]
  },
  {
   "cell_type": "code",
   "execution_count": null,
   "metadata": {},
   "outputs": [],
   "source": [
    "x.get_value(\"plate_surface__temperature\", temperature_flat)\n",
    "print(temperature_flat.reshape(shape))"
   ]
  },
  {
   "cell_type": "markdown",
   "metadata": {},
   "source": [
    "There's diffusion!"
   ]
  },
  {
   "cell_type": "markdown",
   "metadata": {},
   "source": [
    "Advance the model to some distant time:"
   ]
  },
  {
   "cell_type": "code",
   "execution_count": null,
   "metadata": {},
   "outputs": [],
   "source": [
    "distant_time = 2.0\n",
    "while x.get_current_time() < distant_time:\n",
    "    x.update()"
   ]
  },
  {
   "cell_type": "markdown",
   "metadata": {},
   "source": [
    "View the final state of the temperature field:"
   ]
  },
  {
   "cell_type": "code",
   "execution_count": null,
   "metadata": {},
   "outputs": [],
   "source": [
    "np.set_printoptions(formatter={\"float\": \"{: 5.1f}\".format})\n",
    "x.get_value(\"plate_surface__temperature\", temperature_flat)\n",
    "print(temperature_flat.reshape(shape))"
   ]
  },
  {
   "cell_type": "markdown",
   "metadata": {},
   "source": [
    "Note that temperature isn't conserved on the plate:"
   ]
  },
  {
   "cell_type": "code",
   "execution_count": null,
   "metadata": {},
   "outputs": [],
   "source": [
    "print(temperature_flat.sum())"
   ]
  },
  {
   "cell_type": "markdown",
   "metadata": {},
   "source": [
    "End the model:"
   ]
  },
  {
   "cell_type": "code",
   "execution_count": null,
   "metadata": {},
   "outputs": [],
   "source": [
    "x.finalize()"
   ]
  }
 ],
 "metadata": {
  "kernelspec": {
   "display_name": "Python 3 (ipykernel)",
   "language": "python",
   "name": "python3"
  },
  "language_info": {
   "codemirror_mode": {
    "name": "ipython",
    "version": 3
   },
   "file_extension": ".py",
   "mimetype": "text/x-python",
   "name": "python",
   "nbconvert_exporter": "python",
   "pygments_lexer": "ipython3",
   "version": "3.9.12"
  }
 },
 "nbformat": 4,
 "nbformat_minor": 1
}
