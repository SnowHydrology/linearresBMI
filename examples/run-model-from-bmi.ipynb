{
 "cells": [
  {
   "cell_type": "markdown",
   "metadata": {},
   "source": [
    "# Run the `snowBMI` model using Basic Model Interface commands"
   ]
  },
  {
   "cell_type": "markdown",
   "metadata": {},
   "source": [
    "This notebook demonstrates the execution of a simple temperature index snow model using BMI. View the source code for the [model](https://github.com/SnowHydrology/snowBMI/blob/master/snow/snow.py) and its [BMI](https://github.com/SnowHydrology/snowBMI/blob/master/snow/bmi_snow.py) on GitHub.\n",
    "\n",
    "This exercise is based on the [heat](https://github.com/csdms/bmi-example-python) example from [CSDMS](https://csdms.colorado.edu/wiki/Main_Page)."
   ]
  },
  {
   "cell_type": "markdown",
   "metadata": {},
   "source": [
    "Start by importing `os`, `numpy` and the `Snow` BMI:"
   ]
  },
  {
   "cell_type": "code",
   "execution_count": 32,
   "metadata": {},
   "outputs": [],
   "source": [
    "import os\n",
    "import numpy as np\n",
    "import pandas as pd\n",
    "import matplotlib.pyplot as plt\n",
    "\n",
    "from snow import SnowBmi"
   ]
  },
  {
   "cell_type": "markdown",
   "metadata": {},
   "source": [
    "Create an instance of the model's BMI."
   ]
  },
  {
   "cell_type": "code",
   "execution_count": 2,
   "metadata": {},
   "outputs": [],
   "source": [
    "x = SnowBmi()"
   ]
  },
  {
   "cell_type": "markdown",
   "metadata": {},
   "source": [
    "Use the BMI `get_component_name` function to query the model's name."
   ]
  },
  {
   "cell_type": "code",
   "execution_count": 3,
   "metadata": {},
   "outputs": [
    {
     "name": "stdout",
     "output_type": "stream",
     "text": [
      "Temperature Index Snow Model with BMI\n"
     ]
    }
   ],
   "source": [
    "print(x.get_component_name())"
   ]
  },
  {
   "cell_type": "markdown",
   "metadata": {},
   "source": [
    "Start the `Snow` model through its BMI using a configuration file. First, take a look at the file and then run the BMI `initialize` function."
   ]
  },
  {
   "cell_type": "code",
   "execution_count": 4,
   "metadata": {},
   "outputs": [
    {
     "name": "stdout",
     "output_type": "stream",
     "text": [
      "# Snow model configuration\r\n",
      "rs_method: 1         # 1 = single threshold, 2 = dual threshold\r\n",
      "rs_thresh: 2.5       # rain-snow temperature threshold when rs_method = 1 (°C)\r\n",
      "snow_thresh_max: 1.5 # maximum all-snow temp when rs_method = 2 (°C)\r\n",
      "rain_thresh_min: 4.5 # minimum all-rain temp when rs_method = 2 (°C)\r\n",
      "ddf_max: 1           # maximum degree day melt factor (mm/day/°C)\r\n",
      "ddf_min: 0           # minimum degree day melt factor (mm/day/°C)\r\n",
      "tair_melt_thresh: 1  # air temperature threshold above which melt can occur (°C)\r\n",
      "swe_init: 0          # initial snow water equivalent (mm)\r\n",
      "dayofyear: 274       # Day of year of simulation start (ex: 1 = Jan 1, 274 = Oct 1)\r\n",
      "year: 2020           # year of simulation start"
     ]
    }
   ],
   "source": [
    "cat snow.yaml"
   ]
  },
  {
   "cell_type": "code",
   "execution_count": 5,
   "metadata": {},
   "outputs": [],
   "source": [
    "x.initialize(\"snow.yaml\")"
   ]
  },
  {
   "cell_type": "markdown",
   "metadata": {},
   "source": [
    "Check the time information for the model."
   ]
  },
  {
   "cell_type": "code",
   "execution_count": 6,
   "metadata": {},
   "outputs": [
    {
     "name": "stdout",
     "output_type": "stream",
     "text": [
      "Start time: 0.0\n",
      "End time: 1.7976931348623157e+308\n",
      "Current time: 0.0\n",
      "Time step: 86400\n",
      "Time units: s\n"
     ]
    }
   ],
   "source": [
    "print(\"Start time:\", x.get_start_time())\n",
    "print(\"End time:\", x.get_end_time())\n",
    "print(\"Current time:\", x.get_current_time())\n",
    "print(\"Time step:\", x.get_time_step())\n",
    "print(\"Time units:\", x.get_time_units())"
   ]
  },
  {
   "cell_type": "markdown",
   "metadata": {},
   "source": [
    "Show the input and output variables for the component (aside on [Standard Names](https://csdms.colorado.edu/wiki/CSDMS_Standard_Names)):"
   ]
  },
  {
   "cell_type": "code",
   "execution_count": 7,
   "metadata": {},
   "outputs": [
    {
     "name": "stdout",
     "output_type": "stream",
     "text": [
      "Input vars = ('atmosphere_water__precipitation_leq-volume_flux', 'land_surface_air__temperature')\n",
      "Output vars = ('snowpack__liquid-equivalent_depth', 'snowpack__melt_volume_flux')\n"
     ]
    }
   ],
   "source": [
    "print(\"Input vars =\", x.get_input_var_names())\n",
    "print(\"Output vars =\", x.get_output_var_names())"
   ]
  },
  {
   "cell_type": "markdown",
   "metadata": {},
   "source": [
    "For a quick example, set air temperature and precipitation to a constant value using standard BMI functions."
   ]
  },
  {
   "cell_type": "code",
   "execution_count": 8,
   "metadata": {
    "scrolled": true
   },
   "outputs": [
    {
     "name": "stdout",
     "output_type": "stream",
     "text": [
      "Air temperature from get_value = [0.]\n",
      "Air temperature from get_value_ptr = [0.]\n",
      "Air temperature from get_value after set_value= [-5.]\n",
      "Air temperature from get_value_ptr after set_value= [-5.]\n",
      "Precipitation from get_value_ptr = [0.]\n",
      "Precipitation from get_value_ptr after set_value= [10.]\n"
     ]
    }
   ],
   "source": [
    "# when the model is initialized, air temperature equals 0\n",
    "# we can check this using either get_value or get_value_ptr\n",
    "temp_array = np.zeros(1,)\n",
    "x.get_value('land_surface_air__temperature', temp_array)\n",
    "print(\"Air temperature from get_value =\", temp_array)\n",
    "print(\"Air temperature from get_value_ptr =\", x.get_value_ptr('land_surface_air__temperature'))\n",
    "\n",
    "# Now we can set the value of air temperature\n",
    "# first make a numpy single-element array and give it a value\n",
    "air_temperature = np.full(1, -5)\n",
    "\n",
    "# Then set the value and check it with get_value\n",
    "x.set_value(\"land_surface_air__temperature\", air_temperature)\n",
    "x.get_value('land_surface_air__temperature', temp_array)\n",
    "print(\"Air temperature from get_value after set_value=\", temp_array)\n",
    "print(\"Air temperature from get_value_ptr after set_value=\", x.get_value_ptr('land_surface_air__temperature'))\n",
    "\n",
    "# And let's do the same for precipitation\n",
    "precip = np.full(1, 10)\n",
    "print(\"Precipitation from get_value_ptr =\", x.get_value_ptr(\"atmosphere_water__precipitation_leq-volume_flux\"))\n",
    "x.set_value(\"atmosphere_water__precipitation_leq-volume_flux\", precip)\n",
    "print(\"Precipitation from get_value_ptr after set_value=\", x.get_value_ptr('atmosphere_water__precipitation_leq-volume_flux'))"
   ]
  },
  {
   "cell_type": "markdown",
   "metadata": {},
   "source": [
    "A key advantage of BMI is that **we don't have to know the names of any of the input or output variables**. We can query the model and have standardized BMI functions return their names and values (and even their units!). This means no more spending hours poring over code to get the simplest info—you can use the same functions over and over again to get the info you require."
   ]
  },
  {
   "cell_type": "code",
   "execution_count": 15,
   "metadata": {},
   "outputs": [
    {
     "name": "stdout",
     "output_type": "stream",
     "text": [
      "atmosphere_water__precipitation_leq-volume_flux = [10.] mm h-1\n",
      "land_surface_air__temperature = [15.] C\n",
      "snowpack__liquid-equivalent_depth = [938.5597238] mm\n",
      "snowpack__melt_volume_flux = [3.13286144] mm h-1\n"
     ]
    }
   ],
   "source": [
    "# we can also look at all values with a loop\n",
    "input_vars = x.get_input_var_names()\n",
    "for tmp in input_vars:\n",
    "    print(tmp, \"=\", x.get_value_ptr(tmp), x.get_var_units(tmp))\n",
    "output_vars = x.get_output_var_names()\n",
    "for tmp in output_vars:\n",
    "    print(tmp, \"=\", x.get_value_ptr(tmp), x.get_var_units(tmp))"
   ]
  },
  {
   "cell_type": "code",
   "execution_count": 10,
   "metadata": {},
   "outputs": [
    {
     "name": "stdout",
     "output_type": "stream",
     "text": [
      "swe = [10.]\n",
      "doy = 275\n",
      "swe = [20.]\n",
      "doy = 276\n",
      "swe = [30.]\n",
      "doy = 277\n",
      "swe = [40.]\n",
      "doy = 278\n",
      "swe = [50.]\n",
      "doy = 279\n",
      "swe = [60.]\n",
      "doy = 280\n",
      "swe = [70.]\n",
      "doy = 281\n",
      "swe = [80.]\n",
      "doy = 282\n",
      "swe = [90.]\n",
      "doy = 283\n",
      "swe = [100.]\n",
      "doy = 284\n",
      "swe = [110.]\n",
      "doy = 285\n",
      "swe = [120.]\n",
      "doy = 286\n",
      "swe = [130.]\n",
      "doy = 287\n",
      "swe = [140.]\n",
      "doy = 288\n",
      "swe = [150.]\n",
      "doy = 289\n",
      "swe = [160.]\n",
      "doy = 290\n",
      "swe = [170.]\n",
      "doy = 291\n",
      "swe = [180.]\n",
      "doy = 292\n",
      "swe = [190.]\n",
      "doy = 293\n",
      "swe = [200.]\n",
      "doy = 294\n",
      "swe = [210.]\n",
      "doy = 295\n",
      "swe = [220.]\n",
      "doy = 296\n",
      "swe = [230.]\n",
      "doy = 297\n",
      "swe = [240.]\n",
      "doy = 298\n",
      "swe = [250.]\n",
      "doy = 299\n",
      "swe = [260.]\n",
      "doy = 300\n",
      "swe = [270.]\n",
      "doy = 301\n",
      "swe = [280.]\n",
      "doy = 302\n",
      "swe = [290.]\n",
      "doy = 303\n",
      "swe = [300.]\n",
      "doy = 304\n",
      "swe = [310.]\n",
      "doy = 305\n",
      "swe = [320.]\n",
      "doy = 306\n",
      "swe = [330.]\n",
      "doy = 307\n",
      "swe = [340.]\n",
      "doy = 308\n",
      "swe = [350.]\n",
      "doy = 309\n",
      "swe = [360.]\n",
      "doy = 310\n",
      "swe = [370.]\n",
      "doy = 311\n",
      "swe = [380.]\n",
      "doy = 312\n",
      "swe = [390.]\n",
      "doy = 313\n",
      "swe = [400.]\n",
      "doy = 314\n",
      "swe = [410.]\n",
      "doy = 315\n",
      "swe = [420.]\n",
      "doy = 316\n",
      "swe = [430.]\n",
      "doy = 317\n",
      "swe = [440.]\n",
      "doy = 318\n",
      "swe = [450.]\n",
      "doy = 319\n",
      "swe = [460.]\n",
      "doy = 320\n",
      "swe = [470.]\n",
      "doy = 321\n",
      "swe = [480.]\n",
      "doy = 322\n",
      "swe = [490.]\n",
      "doy = 323\n",
      "swe = [500.]\n",
      "doy = 324\n",
      "swe = [510.]\n",
      "doy = 325\n",
      "swe = [520.]\n",
      "doy = 326\n",
      "swe = [530.]\n",
      "doy = 327\n",
      "swe = [540.]\n",
      "doy = 328\n",
      "swe = [550.]\n",
      "doy = 329\n",
      "swe = [560.]\n",
      "doy = 330\n",
      "swe = [570.]\n",
      "doy = 331\n",
      "swe = [580.]\n",
      "doy = 332\n",
      "swe = [590.]\n",
      "doy = 333\n",
      "swe = [600.]\n",
      "doy = 334\n",
      "swe = [610.]\n",
      "doy = 335\n",
      "swe = [620.]\n",
      "doy = 336\n",
      "swe = [630.]\n",
      "doy = 337\n",
      "swe = [640.]\n",
      "doy = 338\n",
      "swe = [650.]\n",
      "doy = 339\n",
      "swe = [660.]\n",
      "doy = 340\n",
      "swe = [670.]\n",
      "doy = 341\n",
      "swe = [680.]\n",
      "doy = 342\n",
      "swe = [690.]\n",
      "doy = 343\n",
      "swe = [700.]\n",
      "doy = 344\n",
      "swe = [710.]\n",
      "doy = 345\n",
      "swe = [720.]\n",
      "doy = 346\n",
      "swe = [730.]\n",
      "doy = 347\n",
      "swe = [740.]\n",
      "doy = 348\n",
      "swe = [750.]\n",
      "doy = 349\n",
      "swe = [760.]\n",
      "doy = 350\n",
      "swe = [770.]\n",
      "doy = 351\n",
      "swe = [780.]\n",
      "doy = 352\n",
      "swe = [790.]\n",
      "doy = 353\n",
      "swe = [800.]\n",
      "doy = 354\n",
      "swe = [810.]\n",
      "doy = 355\n",
      "swe = [820.]\n",
      "doy = 356\n",
      "swe = [830.]\n",
      "doy = 357\n",
      "swe = [840.]\n",
      "doy = 358\n",
      "swe = [850.]\n",
      "doy = 359\n",
      "swe = [860.]\n",
      "doy = 360\n",
      "swe = [870.]\n",
      "doy = 361\n",
      "swe = [880.]\n",
      "doy = 362\n",
      "swe = [890.]\n",
      "doy = 363\n",
      "swe = [900.]\n",
      "doy = 364\n",
      "swe = [910.]\n",
      "doy = 365\n",
      "swe = [920.]\n",
      "doy = 366\n",
      "swe = [930.]\n",
      "doy = 1\n",
      "swe = [940.]\n",
      "doy = 2\n",
      "swe = [950.]\n",
      "doy = 3\n",
      "swe = [960.]\n",
      "doy = 4\n",
      "swe = [970.]\n",
      "doy = 5\n",
      "swe = [980.]\n",
      "doy = 6\n",
      "swe = [990.]\n",
      "doy = 7\n",
      "swe = [1000.]\n",
      "doy = 8\n"
     ]
    }
   ],
   "source": [
    "# update for a set number of time steps\n",
    "run_steps = 100\n",
    "for i in range(run_steps):\n",
    "    x.update()\n",
    "    print(\"swe =\", x.get_value_ptr(\"snowpack__liquid-equivalent_depth\"))\n",
    "    print(\"doy =\", x._model._dayofyear)"
   ]
  },
  {
   "cell_type": "code",
   "execution_count": 12,
   "metadata": {},
   "outputs": [
    {
     "name": "stdout",
     "output_type": "stream",
     "text": [
      "Air temperature from get_value_ptr after set_value= [15.]\n",
      "swe = [982.25499326]\n",
      "melt = [1.46327585]\n",
      "swe = [980.71716906]\n",
      "melt = [1.53782419]\n",
      "swe = [979.10317788]\n",
      "melt = [1.61399119]\n",
      "swe = [977.41142362]\n",
      "melt = [1.69175426]\n",
      "swe = [975.64033327]\n",
      "melt = [1.77109036]\n",
      "swe = [973.78835729]\n",
      "melt = [1.85197598]\n",
      "swe = [971.85397014]\n",
      "melt = [1.93438715]\n",
      "swe = [969.83567068]\n",
      "melt = [2.01829946]\n",
      "swe = [967.73198265]\n",
      "melt = [2.10368803]\n",
      "swe = [965.5414551]\n",
      "melt = [2.19052756]\n",
      "swe = [963.26266278]\n",
      "melt = [2.27879231]\n",
      "swe = [960.89420664]\n",
      "melt = [2.36845614]\n",
      "swe = [958.43471418]\n",
      "melt = [2.45949247]\n",
      "swe = [955.88283986]\n",
      "melt = [2.55187432]\n",
      "swe = [953.23726555]\n",
      "melt = [2.64557431]\n",
      "swe = [950.49670086]\n",
      "melt = [2.74056469]\n",
      "swe = [947.65988357]\n",
      "melt = [2.83681729]\n",
      "swe = [944.72557997]\n",
      "melt = [2.9343036]\n",
      "swe = [941.69258523]\n",
      "melt = [3.03299473]\n",
      "swe = [938.5597238]\n",
      "melt = [3.13286144]\n"
     ]
    }
   ],
   "source": [
    "# Try updating air temp to produce melt\n",
    "air_temperature = np.full(1, 15)\n",
    "\n",
    "# Then set the value and check it with get_value\n",
    "x.set_value(\"land_surface_air__temperature\", air_temperature)\n",
    "print(\"Air temperature from get_value_ptr after set_value=\", x.get_value_ptr('land_surface_air__temperature'))\n",
    "\n",
    "# update for a set number of time steps\n",
    "run_steps = 20\n",
    "for i in range(run_steps):\n",
    "    x.update()\n",
    "    print(\"swe =\", x.get_value_ptr(\"snowpack__liquid-equivalent_depth\"))\n",
    "    print(\"melt =\", x.get_value_ptr(\"snowpack__melt_volume_flux\"))\n"
   ]
  },
  {
   "cell_type": "markdown",
   "metadata": {},
   "source": [
    "Although it's fun to look at printed data and manually control the loops, let's try running an example simulation now using real forcing data from a SNOTEL station. First, we'll reinitialize the model and then import the data."
   ]
  },
  {
   "cell_type": "code",
   "execution_count": 27,
   "metadata": {},
   "outputs": [
    {
     "name": "stdout",
     "output_type": "stream",
     "text": [
      "         date  swe_mm  tair_c  ppt_mm\n",
      "0  2012-10-01     0.0     5.4     0.0\n",
      "1  2012-10-02     0.0    10.6     0.0\n",
      "2  2012-10-03     0.0     7.5     0.0\n",
      "3  2012-10-04     0.0    -1.1     0.0\n",
      "4  2012-10-05     0.0    -1.3     0.0\n",
      "5  2012-10-06     0.0    -5.6     0.0\n",
      "6  2012-10-07     0.0    -0.5     2.5\n",
      "7  2012-10-08     0.0     5.2     0.0\n",
      "8  2012-10-09     0.0     3.9     0.0\n",
      "9  2012-10-10     0.0     6.8     0.0\n"
     ]
    }
   ],
   "source": [
    "# Reinitialize the model\n",
    "x.initialize(\"snow.yaml\")\n",
    "\n",
    "# Import the example SNOTEL data\n",
    "forcing = pd.read_csv(\"data/snotel_663_data.csv\")\n",
    "print(forcing.head(10))"
   ]
  },
  {
   "cell_type": "markdown",
   "metadata": {},
   "source": [
    "We can see in the dataframe above that we have everything we need to run `snowBMI`, specifically air temperature and precipitation.\n",
    "\n",
    "Now we can run a `snowBMI` update loop based on the number of entries in the forcing data. Importantly, we'll use BMI::set_value to apply the forcing data to the model and BMI::get_value to access model data for plotting and analysis."
   ]
  },
  {
   "cell_type": "code",
   "execution_count": 28,
   "metadata": {},
   "outputs": [],
   "source": [
    "# Make an empty array to store the output data\n",
    "swe_output = np.zeros(forcing.date.size)\n",
    "\n",
    "# Loop through the data and run snowBMI\n",
    "for i in range(forcing.date.size):\n",
    "    air_temperature = np.full(1, forcing.tair_c[i])\n",
    "    precip = np.full(1, forcing.ppt_mm[i])\n",
    "    x.set_value(\"land_surface_air__temperature\", air_temperature)\n",
    "    x.set_value(\"atmosphere_water__precipitation_leq-volume_flux\", precip)\n",
    "    x.update()\n",
    "    swe_output[i] = x.get_value_ptr(\"snowpack__liquid-equivalent_depth\")"
   ]
  },
  {
   "cell_type": "code",
   "execution_count": 34,
   "metadata": {},
   "outputs": [
    {
     "data": {
      "image/png": "[encoded data removed]",
      "text/plain": [
       "<Figure size 720x504 with 1 Axes>"
      ]
     },
     "metadata": {
      "needs_background": "light"
     },
     "output_type": "display_data"
    }
   ],
   "source": [
    "# Plot the simulated swe\n",
    "plt.figure(figsize=(10, 7))\n",
    "#plt.plot(sample_data['qobs_CAMELS_mm_per_hour'][ibasin][start_plot:end_plot], label='obs', c='k')\n",
    "plt.plot(swe_output,label='Sim. SWE')\n",
    "plt.plot(forcing.swe_mm, label='Obs. SWE')\n",
    "#plt.plot(nh_hourly_slope_mean_precip_temp_01022500[t2000+start_plot:t2000+end_plot],label='LSTM NH')\n",
    "#plt.ylim([0,0.5])\n",
    "plt.ylabel('SWE (mm)')\n",
    "plt.xlabel('Day of Simulation')\n",
    "plt.legend()\n",
    "plt.show()\n",
    "plt.close()"
   ]
  },
  {
   "cell_type": "code",
   "execution_count": 13,
   "metadata": {},
   "outputs": [
    {
     "name": "stdout",
     "output_type": "stream",
     "text": [
      "{'atmosphere_water__precipitation_leq-volume_flux': array([10.]), 'land_surface_air__temperature': array([15.]), 'snowpack__liquid-equivalent_depth': array([938.5597238]), 'snowpack__melt_volume_flux': array([3.13286144])}\n",
      "48\n",
      "2021\n",
      "[15.]\n",
      "[3.13286144]\n",
      "(1,)\n"
     ]
    }
   ],
   "source": [
    "print(x._values)\n",
    "print(x._model._dayofyear)\n",
    "print(x._model._year)\n",
    "print(x._model._tair_c)\n",
    "test = x.get_value_ptr(\"snowpack__melt_volume_flux\")\n",
    "print(test)\n",
    "print(test.shape)"
   ]
  },
  {
   "cell_type": "markdown",
   "metadata": {},
   "source": [
    "Next, get the identifier for the grid on which the temperature variable is defined:"
   ]
  },
  {
   "cell_type": "code",
   "execution_count": null,
   "metadata": {},
   "outputs": [],
   "source": [
    "grid_id = x.get_var_grid(\"plate_surface__temperature\")\n",
    "print(\"Grid id:\", grid_id)"
   ]
  },
  {
   "cell_type": "markdown",
   "metadata": {},
   "source": [
    "Then get the grid attributes:"
   ]
  },
  {
   "cell_type": "code",
   "execution_count": null,
   "metadata": {},
   "outputs": [],
   "source": [
    "print(\"Grid type:\", x.get_grid_type(grid_id))\n",
    "\n",
    "rank = x.get_grid_rank(grid_id)\n",
    "print(\"Grid rank:\", rank)\n",
    "\n",
    "shape = np.ndarray(rank, dtype=int)\n",
    "x.get_grid_shape(grid_id, shape)\n",
    "print(\"Grid shape:\", shape)\n",
    "\n",
    "spacing = np.ndarray(rank, dtype=float)\n",
    "x.get_grid_spacing(grid_id, spacing)\n",
    "print(\"Grid spacing:\", spacing)"
   ]
  },
  {
   "cell_type": "markdown",
   "metadata": {},
   "source": [
    "These commands are made somewhat un-Pythonic by the generic design of the BMI."
   ]
  },
  {
   "cell_type": "markdown",
   "metadata": {},
   "source": [
    "Through the model's BMI, zero out the initial temperature field, except for an impulse near the middle.\n",
    "Note that *set_value* expects a one-dimensional array for input."
   ]
  },
  {
   "cell_type": "code",
   "execution_count": null,
   "metadata": {},
   "outputs": [],
   "source": [
    "temperature = np.zeros(shape)\n",
    "temperature[3, 4] = 100.0\n",
    "x.set_value(\"plate_surface__temperature\", temperature)"
   ]
  },
  {
   "cell_type": "markdown",
   "metadata": {},
   "source": [
    "Check that the temperature field has been updated. Note that *get_value* expects a one-dimensional array to receive output."
   ]
  },
  {
   "cell_type": "code",
   "execution_count": 12,
   "metadata": {},
   "outputs": [
    {
     "ename": "AttributeError",
     "evalue": "'int' object has no attribute 'flatten'",
     "output_type": "error",
     "traceback": [
      "\u001b[0;31m---------------------------------------------------------------------------\u001b[0m",
      "\u001b[0;31mAttributeError\u001b[0m                            Traceback (most recent call last)",
      "Input \u001b[0;32mIn [12]\u001b[0m, in \u001b[0;36m<cell line: 2>\u001b[0;34m()\u001b[0m\n\u001b[1;32m      1\u001b[0m tmp \u001b[38;5;241m=\u001b[39m \u001b[38;5;241m10\u001b[39m\n\u001b[0;32m----> 2\u001b[0m \u001b[43mx\u001b[49m\u001b[38;5;241;43m.\u001b[39;49m\u001b[43mget_value\u001b[49m\u001b[43m(\u001b[49m\u001b[38;5;124;43m\"\u001b[39;49m\u001b[38;5;124;43msnowpack__liquid-equivalent_depth\u001b[39;49m\u001b[38;5;124;43m\"\u001b[39;49m\u001b[43m,\u001b[49m\u001b[43m \u001b[49m\u001b[43mtmp\u001b[49m\u001b[43m)\u001b[49m\n",
      "File \u001b[0;32m~/Documents/projects/owp/nextgen/develop/snowBMI/snow/bmi_snow.py:224\u001b[0m, in \u001b[0;36mSnowBmi.get_value\u001b[0;34m(self, var_name, dest)\u001b[0m\n\u001b[1;32m    209\u001b[0m \u001b[38;5;28;01mdef\u001b[39;00m \u001b[38;5;21mget_value\u001b[39m(\u001b[38;5;28mself\u001b[39m, var_name, dest):\n\u001b[1;32m    210\u001b[0m     \u001b[38;5;124;03m\"\"\"Copy of values.\u001b[39;00m\n\u001b[1;32m    211\u001b[0m \n\u001b[1;32m    212\u001b[0m \u001b[38;5;124;03m    Parameters\u001b[39;00m\n\u001b[0;32m   (...)\u001b[0m\n\u001b[1;32m    222\u001b[0m \u001b[38;5;124;03m        Copy of values.\u001b[39;00m\n\u001b[1;32m    223\u001b[0m \u001b[38;5;124;03m    \"\"\"\u001b[39;00m\n\u001b[0;32m--> 224\u001b[0m     dest[:] \u001b[38;5;241m=\u001b[39m \u001b[38;5;28;43mself\u001b[39;49m\u001b[38;5;241;43m.\u001b[39;49m\u001b[43mget_value_ptr\u001b[49m\u001b[43m(\u001b[49m\u001b[43mvar_name\u001b[49m\u001b[43m)\u001b[49m\u001b[38;5;241;43m.\u001b[39;49m\u001b[43mflatten\u001b[49m()\n\u001b[1;32m    225\u001b[0m     \u001b[38;5;28;01mreturn\u001b[39;00m dest\n",
      "\u001b[0;31mAttributeError\u001b[0m: 'int' object has no attribute 'flatten'"
     ]
    }
   ],
   "source": [
    "temperature_flat = np.empty_like(temperature).flatten()\n",
    "x.get_value(\"plate_surface__temperature\", temperature_flat)\n",
    "print(temperature_flat.reshape(shape))"
   ]
  },
  {
   "cell_type": "markdown",
   "metadata": {},
   "source": [
    "Now advance the model by a single time step:"
   ]
  },
  {
   "cell_type": "code",
   "execution_count": null,
   "metadata": {},
   "outputs": [],
   "source": [
    "x.update()"
   ]
  },
  {
   "cell_type": "markdown",
   "metadata": {},
   "source": [
    "View the new state of the temperature field:"
   ]
  },
  {
   "cell_type": "code",
   "execution_count": null,
   "metadata": {},
   "outputs": [],
   "source": [
    "x.get_value(\"plate_surface__temperature\", temperature_flat)\n",
    "print(temperature_flat.reshape(shape))"
   ]
  },
  {
   "cell_type": "markdown",
   "metadata": {},
   "source": [
    "There's diffusion!"
   ]
  },
  {
   "cell_type": "markdown",
   "metadata": {},
   "source": [
    "Advance the model to some distant time:"
   ]
  },
  {
   "cell_type": "code",
   "execution_count": null,
   "metadata": {},
   "outputs": [],
   "source": [
    "distant_time = 2.0\n",
    "while x.get_current_time() < distant_time:\n",
    "    x.update()"
   ]
  },
  {
   "cell_type": "markdown",
   "metadata": {},
   "source": [
    "View the final state of the temperature field:"
   ]
  },
  {
   "cell_type": "code",
   "execution_count": null,
   "metadata": {},
   "outputs": [],
   "source": [
    "np.set_printoptions(formatter={\"float\": \"{: 5.1f}\".format})\n",
    "x.get_value(\"plate_surface__temperature\", temperature_flat)\n",
    "print(temperature_flat.reshape(shape))"
   ]
  },
  {
   "cell_type": "markdown",
   "metadata": {},
   "source": [
    "Note that temperature isn't conserved on the plate:"
   ]
  },
  {
   "cell_type": "code",
   "execution_count": null,
   "metadata": {},
   "outputs": [],
   "source": [
    "print(temperature_flat.sum())"
   ]
  },
  {
   "cell_type": "markdown",
   "metadata": {},
   "source": [
    "End the model:"
   ]
  },
  {
   "cell_type": "code",
   "execution_count": null,
   "metadata": {},
   "outputs": [],
   "source": [
    "x.finalize()"
   ]
  }
 ],
 "metadata": {
  "kernelspec": {
   "display_name": "Python 3 (ipykernel)",
   "language": "python",
   "name": "python3"
  },
  "language_info": {
   "codemirror_mode": {
    "name": "ipython",
    "version": 3
   },
   "file_extension": ".py",
   "mimetype": "text/x-python",
   "name": "python",
   "nbconvert_exporter": "python",
   "pygments_lexer": "ipython3",
   "version": "3.9.12"
  }
 },
 "nbformat": 4,
 "nbformat_minor": 1
}
